{
 "cells": [
  {
   "cell_type": "markdown",
   "metadata": {
    "id": "qR1ZtuTrRaAa"
   },
   "source": [
    "# Practice Session 02: Management of networks data"
   ]
  },
  {
   "cell_type": "markdown",
   "metadata": {
    "id": "jt1QNNghRaAg"
   },
   "source": [
    "In this session we will study an application of complex networks analysis to cooking. We will start with the *flavors network*, a bi-partite network connecting culinary ingredients to flavour compounds [*].\n",
    "\n",
    "The initial dataset, prepared by [Ling Cheng in 2016](https://github.com/lingcheng99/Flavor-Network), contains three files:\n",
    "\n",
    "* `ingredients.tsv` -- information about culinary ingredients\n",
    "* `compounds.tsv` -- information about flavour compounds\n",
    "* `ingredient-compound.tsv` -- flavour compounds present in each culinary ingredient\n",
    "\n",
    "[*] Ahn, Y. Y., Ahnert, S. E., Bagrow, J. P., & Barabasi, A. L. (2011). [Flavor network and the principles of food pairing](https://doi.org/10.1038/srep00196). Scientific reports, 1(1), 1-7.\n",
    "\n",
    "You can find this dataset in the data folder form this same github repository.\n",
    "\n",
    "<font size=\"-1\" color=\"gray\">(Remove this cell when delivering.)</font>"
   ]
  },
  {
   "cell_type": "markdown",
   "metadata": {
    "id": "qfy0mYOtRaAi"
   },
   "source": [
    "Author: <font color=\"blue\">Your name here</font>\n",
    "\n",
    "E-mail: <font color=\"blue\">Your e-mail here</font>\n",
    "\n",
    "Date: <font color=\"blue\">The current date here</font>"
   ]
  },
  {
   "cell_type": "markdown",
   "metadata": {
    "id": "_Jgv6fd7dAf5"
   },
   "source": [
    "# 0. Use a Cytoscape App (ClusterMaker2)\n",
    "\n",
    "Cytoscape has \"apps\" that can be installed and used.\n",
    "\n",
    "## 0.1. Install ClusterMaker2"
   ]
  },
  {
   "cell_type": "markdown",
   "metadata": {
    "id": "i56d6aSmfGKX"
   },
   "source": [
    "Install ClusterMaker2 (``Apps > App Store``). You may be able to install it directly from a browser, or you may need to download a jar file from the [releases](https://apps.cytoscape.org/apps/clustermaker2) directory of clustermaker2, and then ``Apps > App Store > Install apps from file ...`` in the App Manager."
   ]
  },
  {
   "cell_type": "markdown",
   "metadata": {
    "id": "rGgBh8zJe7Xl"
   },
   "source": [
    "## 0.2. Use ClusterMaker2 to Karate Club"
   ]
  },
  {
   "cell_type": "markdown",
   "metadata": {
    "id": "dphv0aPqe_Wd"
   },
   "source": [
    "Use ClusterMaker2 on the Karate Club file karate.gml.\n",
    "\n",
    "* Run the network analyzer first, so you can have \"Edge betweenness\" as an attribute in edges\n",
    "\n",
    "* Apply the cluster algorithms in the `ClusterMaker2` plug-in.\n",
    "\n",
    "   * You can find a description of the algorithms used in the [ClusterMaker2 homepage](http://www.rbvi.ucsf.edu/cytoscape/clusterMaker2/)\n",
    "   \n",
    "   * Start by running the affinity [affinity propagation](https://en.wikipedia.org/wiki/Affinity_propagation) clustering algorithm in ClusterMaker2 (Apps > ClusterMaker cluster network > Affinity Propagation Cluster ...) and seeing if that works.\n",
    "      * Once you run it, the network will have a new attribute in the nodes (in the node table you will see an attribute named ``_APCluster``)\n",
    "      * Use the new attribute in the nodes for \"Fill color\" using a \"Discrete mapping\" on ``_APCluster.`` Note that with the right button you can generate a mapping out of a set of pre-defined ones.\n",
    "      * Save and upload the image.\n",
    "      * Repeat the same process using Fast Greedy.\n",
    "\n",
    "Save both images in the same folder as this notebook as 'karate_AP.png' and 'karate_greedy.png'\n",
    "\n",
    "![Karate Club](https://www.researchgate.net/profile/Marcus-Perry-2/publication/325719324/figure/fig1/AS:636707967889409@1528814417977/True-communities-of-Zacharys-karate-club-network.png)"
   ]
  },
  {
   "cell_type": "code",
   "execution_count": null,
   "metadata": {},
   "outputs": [],
   "source": [
    "#Leave as is\n",
    "\n",
    "from IPython.display import Image, display\n",
    "\n",
    "display(Image(filename='karate_AP.png'))\n",
    "display(Image(filename='karate_greedy.png'))"
   ]
  },
  {
   "cell_type": "markdown",
   "metadata": {
    "id": "N77gW_sedyu9"
   },
   "source": [
    "<font size=\"+1\" color=\"red\">In the affinity propagation clustering the algorithm formed several small clusters that show how some members of the club are more connected between them creating subgroups inside the network in the fast greedy clustering the algorithm created fewer and larger groups that look closer to the two real factions that the karate club had when it split this shows that the fast greedy method better represents the real division of the club while affinity propagation shows smaller internal communities</font>"
   ]
  },
  {
   "cell_type": "markdown",
   "metadata": {
    "id": "ubVfI7hdeKCh"
   },
   "source": [
    "<font size=\"+1\" color=\"red\">Closeness centrality is a property that defines how fast you can reach the other nodes from the selected one as its name suggests it tells how close the node is to the others betweenness centrality on the other hand defines the number of shortest paths that go through a node meaning that a node with high betweenness centrality is very important for the connections in the graph</font>"
   ]
  },
  {
   "cell_type": "markdown",
   "metadata": {
    "id": "tmRKZ-oSRaAj"
   },
   "source": [
    "# 1. The flavors bi-partite graph"
   ]
  },
  {
   "cell_type": "markdown",
   "metadata": {
    "id": "NnD97kvnRaAj"
   },
   "source": [
    "## 1.0. Examine your input files\n",
    "\n",
    "Before you begin, we highly recommend you to:\n",
    "\n",
    "1. Copy the input files to a local directory in your computer\n",
    "2. Open them in a spreadsheet and look at them\n",
    "\n",
    "<font size=\"-1\" color=\"gray\">(Remove this cell when delivering.)</font>"
   ]
  },
  {
   "cell_type": "markdown",
   "metadata": {
    "id": "HSH3TNW7RaAk"
   },
   "source": [
    "## 1.1. Read the bipartite graph in a dataframe\n"
   ]
  },
  {
   "cell_type": "markdown",
   "metadata": {
    "id": "ODM9b2MSRaAl"
   },
   "source": [
    "The following code, which you can leave as-is, reads the ingredient-compound relationship into a dataframe.\n",
    "\n",
    "<font size=\"-1\" color=\"gray\">(Remove this cell when delivering.)</font>"
   ]
  },
  {
   "cell_type": "code",
   "execution_count": null,
   "metadata": {
    "executionInfo": {
     "elapsed": 1228,
     "status": "ok",
     "timestamp": 1759145327666,
     "user": {
      "displayName": "aleix nicolas",
      "userId": "12034091342593218588"
     },
     "user_tz": -120
    },
    "id": "dlFJzfI8RaAp"
   },
   "outputs": [],
   "source": [
    "# Feel free to add imports if you need them\n",
    "\n",
    "import io\n",
    "import csv\n",
    "import pandas as pd\n",
    "import networkx as nx\n",
    "\n",
    "from networkx.algorithms import bipartite\n",
    "\n",
    "import numpy as np\n",
    "import matplotlib\n",
    "import scipy\n",
    "\n",
    "import itertools\n",
    "\n",
    "from IPython.display import Image"
   ]
  },
  {
   "cell_type": "code",
   "execution_count": null,
   "metadata": {
    "executionInfo": {
     "elapsed": 17,
     "status": "ok",
     "timestamp": 1759145328484,
     "user": {
      "displayName": "aleix nicolas",
      "userId": "12034091342593218588"
     },
     "user_tz": -120
    },
    "id": "VRxoe2wJRaAp"
   },
   "outputs": [],
   "source": [
    "# Leave as is\n",
    "\n",
    "INPUT_INGR_FILENAME = \"data/flavors-network/ingredients.tsv\"\n",
    "INPUT_COMP_FILENAME = \"data/flavors-network/compounds.tsv\"\n",
    "INPUT_INGR_COMP_FILENAME = \"data/flavors-network/ingredient-compound.tsv\""
   ]
  },
  {
   "cell_type": "code",
   "execution_count": null,
   "metadata": {
    "colab": {
     "base_uri": "https://localhost:8080/",
     "height": 396
    },
    "executionInfo": {
     "elapsed": 185,
     "status": "ok",
     "timestamp": 1759145330110,
     "user": {
      "displayName": "aleix nicolas",
      "userId": "12034091342593218588"
     },
     "user_tz": -120
    },
    "id": "HWs_2x_DRaAq",
    "outputId": "dac28ac3-554e-4a52-8f2e-d96f5333f8d4"
   },
   "outputs": [],
   "source": [
    "# Leave this code as-is\n",
    "\n",
    "ingredients = pd.read_csv(INPUT_INGR_FILENAME, sep=\"\\t\")\n",
    "display(ingredients.head(3))\n",
    "\n",
    "compounds = pd.read_csv(INPUT_COMP_FILENAME, sep=\"\\t\")\n",
    "display(compounds.head(3))\n",
    "\n",
    "ingr_comp = pd.read_csv(INPUT_INGR_COMP_FILENAME, sep=\"\\t\")\n",
    "display(ingr_comp.head(3))\n"
   ]
  },
  {
   "cell_type": "markdown",
   "metadata": {
    "id": "CWBOnRhARaAq"
   },
   "source": [
    "## 1.2. Create the flavors bipartite network"
   ]
  },
  {
   "cell_type": "markdown",
   "metadata": {
    "id": "PcnQEJTiRaAq"
   },
   "source": [
    "\n",
    "Create a new dataframe named `flavors` by joining `ingredients` and `compounds`.\n",
    "\n",
    "*Tips*:\n",
    "\n",
    "* To [join](https://pandas.pydata.org/docs/reference/api/pandas.DataFrame.join.html) a DataFrame A and a DataFrame B using a column X, use `result = A.set_index('X').join(B.set_index('X'), how='inner')\n",
    "* You will need to do two joins to solve this. First, join `ingredients` and `ingr_comp`, then join the result with `compounds`.\n",
    "\n",
    "<font size=\"-1\" color=\"gray\">(Remove this cell when delivering.)</font>"
   ]
  },
  {
   "cell_type": "markdown",
   "metadata": {
    "id": "P5hE8XIaRaAr"
   },
   "source": [
    "<font size=\"+1\" color=\"red\">Replace this cell with your code to create the `flavors` dataframe and show its first 10 rows.</font>"
   ]
  },
  {
   "cell_type": "markdown",
   "metadata": {
    "id": "Cme6ALj5RaAr"
   },
   "source": [
    "Drop the `compound_code` column from the resulting dataframe, sort by `ingredient_name` then by `compound_name`, and reset its index.\n",
    "\n",
    "*Tips:*\n",
    "\n",
    "* To [drop column](https://pandas.pydata.org/docs/reference/api/pandas.DataFrame.drop.html) x from DataFrame A, you can do: `A = A.drop(columns=['x'])`\n",
    "* To [sort](https://pandas.pydata.org/docs/reference/api/pandas.DataFrame.sort_values.html) a DataFrame A by column *x*, then by column *y*, you can do: `A = A.sort_values(['x', 'y'])`\n",
    "* To [reset the index](https://pandas.pydata.org/docs/reference/api/pandas.DataFrame.reset_index.html) of a DataFrame A, you can do: `A = A.reset_index(drop=True)`; the index is the column appearing in boldface in front of every row of a DataFrame\n",
    "\n",
    "<font size=\"-1\" color=\"gray\">(Remove this cell when delivering.)</font>"
   ]
  },
  {
   "cell_type": "markdown",
   "metadata": {
    "id": "91Jza3CARaAr"
   },
   "source": [
    "<font size=\"+1\" color=\"red\">Replace this cell with your code to modify the `flavors` dataframe as explained above, and show its first 10 rows.</font>"
   ]
  },
  {
   "cell_type": "markdown",
   "metadata": {
    "id": "9xSpb8yvRaAr"
   },
   "source": [
    "Write this dataframe to a `flavors.tsv` file, which should be a tab-separated file containing the three fields `ingredient_name`, `ingredient_category` and `compound_name`. Use the function [pandas.DataFrame.to_csv](https://pandas.pydata.org/docs/reference/api/pandas.DataFrame.to_csv.html).\n",
    "\n",
    "<font size=\"-1\" color=\"gray\">(Remove this cell when delivering.)</font>"
   ]
  },
  {
   "cell_type": "markdown",
   "metadata": {
    "id": "up5xb8X6RaAr"
   },
   "source": [
    "<font size=\"+1\" color=\"red\">Replace this cell with your code to save *flavors* into a tab-separated file.</font>"
   ]
  },
  {
   "cell_type": "markdown",
   "metadata": {
    "id": "MzYF-dTxRaAs"
   },
   "source": [
    "## 1.3. Open this bi-partite network in Cytoscape\n"
   ]
  },
  {
   "cell_type": "markdown",
   "metadata": {
    "id": "VfyQ9NhMRaAs"
   },
   "source": [
    "### 1.3.1. Examine the file you generated\n",
    "\n",
    "Open the ``flavors.tsv`` file in a spreadsheet program to make sure you generated it correctly; it should have exactly 3 tab-separated columns.\n",
    "\n",
    "### 1.3.2. Import this file in Cytoscape\n",
    "\n",
    "Remember these files are imported with ``File > Import > Network from File ...``. Then, you have to select:\n",
    "\n",
    "* ingredient_name as a ``Source Node``\n",
    "* ingredient_category as a ``Source Node Attribute``.\n",
    "* compound_name as a ``Target Node``\n",
    "\n",
    "### 1.3.3. Draw a small part of this graph\n",
    "\n",
    "Find the `cinnamon` node and everything connected to it at distance 1 or 2. To do this, find \"cinnamon\" and then click on the \"two-houses\" (neighbors) icon twice. Extract the selected nodes as a sub-graph by doing `File > New network > From selected nodes, all edges`.\n",
    "\n",
    "Run the network analyzer and then perform `Layout > Edge weighted spring embedded layout` using edge betweenness.\n",
    "\n",
    "Style the network so that ingredient nodes have a color that depends on their category, using any color except white, and setting white to be the default node color so that compound nodes remain in color white. Set the label color to black. Set the node shape to ellipse.\n",
    "\n",
    "Save the image as `flavors_cinnamon.png` and its corresponding lengend as `flavors_cinnamon-legend.gif`.\n",
    "You can export the legend using the hamburger menu in Style and selecting Create legend ...\n",
    "\n",
    "Use the next cell to display the network and legend. This time, node labels do not need to be visible or readable, we just want to appreciate overall clusters.\n",
    "\n",
    "<font size=\"-1\" color=\"gray\">(Remove this cell when delivering.)</font>"
   ]
  },
  {
   "cell_type": "code",
   "execution_count": null,
   "metadata": {
    "colab": {
     "base_uri": "https://localhost:8080/",
     "height": 242
    },
    "executionInfo": {
     "elapsed": 401,
     "status": "ok",
     "timestamp": 1759145499109,
     "user": {
      "displayName": "aleix nicolas",
      "userId": "12034091342593218588"
     },
     "user_tz": -120
    },
    "id": "XsHIfTnsRaAs",
    "outputId": "27156760-e856-420b-89b5-d4d39e936a65"
   },
   "outputs": [],
   "source": [
    "# KEEP THIS CELL AS-IS\n",
    "\n",
    "# Just adjust width/height if necessary\n",
    "\n",
    "Image(url=\"flavors_cinnamon.png\", width=1200)"
   ]
  },
  {
   "cell_type": "markdown",
   "metadata": {
    "id": "pdmCNdnLRaAs"
   },
   "source": [
    "### 1.3.4 Compounds in common\n",
    "\n",
    "*coffee* and *tea* are beloved beberages for their rich, complex flavors, which come from various alkaloid compounds. How many alkaloid compounds do coffee and tea have in common? Based solely on their names, how many of them do you think contribute to their bitterness?\n",
    "\n",
    "\n",
    "---\n",
    "*Quick chemestry lesson: you can identify some alkaloid compounds by name, since they tend to finish with \"pyrrole\", \"pyrazine\", \"quinoline\", \"Theobromine\"*\n",
    "\n",
    "---\n",
    "\n",
    "To answer this question, extract the nodes *coffee*, *tea*, and all their compounds in common as a graph.\n",
    "\n",
    "\n",
    "*   To select the items, simply search both names separated by space in a search bar and select both\n",
    "*   Then select first neighbours\n",
    "*   After analyzing the graph, you will see the ones that have a degree of 2. Those are the ones that both networks components have in common."
   ]
  },
  {
   "cell_type": "markdown",
   "metadata": {
    "id": "eDNehpNaRaAt"
   },
   "source": [
    "<font size=\"+1\" color=\"red\">Replace this cell with a brief commentary indicating how many compounds they have in common (*hint: check this in the histogram*), how many of them seem to contain pyrazine (based on their names). Name a couple of those alkaloid-containing compounds.</font>"
   ]
  },
  {
   "cell_type": "markdown",
   "metadata": {
    "id": "U9hiLN2_1oPZ"
   },
   "source": [
    "<font size=\"+1\" color=\"red\">Replace this cell with a brief explanation on why, in this case, the nodes with degree 2 correspond the compounds in common.</font>"
   ]
  },
  {
   "cell_type": "markdown",
   "metadata": {
    "id": "36_E_JprRaAt"
   },
   "source": [
    "# 2. The ingredient-ingredient graph"
   ]
  },
  {
   "cell_type": "markdown",
   "metadata": {
    "id": "fH0bX1zyRaAt"
   },
   "source": [
    "The bi-partite flavors graph is hard to visualize as it mixes ingredients and compounds. We will now try to visualize only the connections between ingredients.\n",
    "\n",
    "<font size=\"-1\" color=\"gray\">(Remove this cell when delivering.)</font>\n"
   ]
  },
  {
   "cell_type": "markdown",
   "metadata": {
    "id": "um-8xDdQRaAu"
   },
   "source": [
    "## 2.1. Create an ingredient-ingredient.gml file\n"
   ]
  },
  {
   "cell_type": "markdown",
   "metadata": {
    "id": "4Sg8SVD0RaAu"
   },
   "source": [
    "First, copy the list of ingredient names into an array `ingredients_array`. To convert column *x* of DataFrame *A* to an array, use `np.asarray(A['x'])`.\n",
    "\n",
    "<font size=\"-1\" color=\"gray\">(Remove this cell when delivering.)</font>"
   ]
  },
  {
   "cell_type": "markdown",
   "metadata": {
    "id": "9P-0vFERRaAu"
   },
   "source": [
    "<font size=\"+1\" color=\"red\">Replace this cell with your code to create `ingredients_array` with the list of ingredients and to print the number of ingredients.</font>"
   ]
  },
  {
   "cell_type": "markdown",
   "metadata": {
    "id": "1T6kGDOMRaAu"
   },
   "source": [
    "Then, create a dictionary named `ingredient_to_compounds`, in which keys are ingredients, and values are sets of compounds. To create an empty set, you can use `s = set()`. To add to a set, you can do `s.add(element)`. Your code should look like this:\n",
    "\n",
    "```python\n",
    "ingredients_array = ...\n",
    "print(\"There are %d ingredients\" % (len(ingredients_array)))\n",
    "\n",
    "ingredient_to_compounds = {}\n",
    "\n",
    "for index, row in flavors.iterrows():\n",
    "    ...\n",
    "\n",
    "```\n",
    "\n",
    "<font size=\"-1\" color=\"gray\">(Remove this cell when delivering.)</font>"
   ]
  },
  {
   "cell_type": "markdown",
   "metadata": {
    "id": "x2FLDeJmRaAu"
   },
   "source": [
    "<font size=\"+1\" color=\"red\">Replace this cell with your code to create dictionary `ingredient_to_compounds` with a set of compounds for each ingredient. Print the number of keys of this dictionary. It should be less than or equal to the number of ingredients.</font></font>"
   ]
  },
  {
   "cell_type": "markdown",
   "metadata": {
    "id": "FCGdZY6QRaAv"
   },
   "source": [
    "Next, we create a NetworkX graph with nodes representing ingredients and edges of weight `x` connecting two ingredients having `x` flavor compounds in common.\n",
    "\n",
    "To create an empty graph, do `ingredient_ingredient = nx.Graph()`.\n",
    "\n",
    "Now, iterate through all pairs of ingredients in `ingredients_array` and compute the compounds they have in common between them. To iterate through all pair combinations of an array X, you can use:\n",
    "\n",
    "```\n",
    "for u, v in itertools.combinations(X,2):\n",
    "    ...\n",
    "\n",
    "```\n",
    "\n",
    "The size of the intersection of two lists of compounds `l1`, `l2` can be obtained with `len(l1.intersection(l2))`. This will be the weight of the edge connecting two ingredients corresponding to those lists.\n",
    "\n",
    "Please note you may need to check whether both ingredients have compounds. You can test it by asking `if u in ingredient_to_compounds and v in ingredient_to_compounds`\n",
    "\n",
    "To facilitate visualization, we will keep only edges connecting two ingredients having **MIN_COMMON_COMPOUNDS or more compounds in common**. Set the value of **MIN_COMMON_COMPOUNDS** so that the resulting graph has somewhere around 150 +/- 30 nodes.\n",
    "\n",
    "To add to graph *G* an edge between nodes *u* and *v* having weight *w*, do `G.add_edge(u, v, weight=w)`.\n",
    "\n",
    "<font size=\"-1\" color=\"gray\">(Remove this cell when delivering.)</font>"
   ]
  },
  {
   "cell_type": "markdown",
   "metadata": {
    "id": "Me6V4wo3RaAv"
   },
   "source": [
    "<font size=\"+1\" color=\"red\">Replace this cell with your code to create the `ingredient_ingredient` graph</font></font>"
   ]
  },
  {
   "cell_type": "code",
   "execution_count": null,
   "metadata": {
    "colab": {
     "base_uri": "https://localhost:8080/"
    },
    "executionInfo": {
     "elapsed": 6,
     "status": "ok",
     "timestamp": 1753375448255,
     "user": {
      "displayName": "aleix nicolas",
      "userId": "12034091342593218588"
     },
     "user_tz": -120
    },
    "id": "QRcOE0FQRaAv",
    "outputId": "5c1702f7-7824-4c85-a6dc-d9dd40c007f4"
   },
   "outputs": [],
   "source": [
    "# Leave as-is\n",
    "print(\"The ingredient-ingredient graph has %d nodes and %d edges\" %\n",
    "      (ingredient_ingredient.number_of_nodes(), ingredient_ingredient.number_of_edges()))"
   ]
  },
  {
   "cell_type": "markdown",
   "metadata": {
    "id": "zccmP9B1RaAv"
   },
   "source": [
    "Save the resulting graph into a file. You can use [write_gml](https://networkx.org/documentation/stable/reference/readwrite/generated/networkx.readwrite.gml.write_gml.html#networkx.readwrite.gml.write_gml) to use the *GML* format.\n",
    "\n",
    "<font size=\"-1\" color=\"gray\">(Remove this cell when delivering.)</font>"
   ]
  },
  {
   "cell_type": "code",
   "execution_count": null,
   "metadata": {
    "id": "Zd9mOsk2RaAw"
   },
   "outputs": [],
   "source": [
    "OUTPUT_INGR_INGR_FILENAME = 'ingredient-ingredient.gml'"
   ]
  },
  {
   "cell_type": "markdown",
   "metadata": {
    "id": "RW5CU1lPRaAw"
   },
   "source": [
    "<font size=\"+1\" color=\"red\">Replace this cell with your code to save graph G to file OUTPUT_INGR_INGR_FILENAME</font>"
   ]
  },
  {
   "cell_type": "markdown",
   "metadata": {
    "id": "Z-kFjRRlRaA3"
   },
   "source": [
    "## 2.2. Work with this file in Cytoscape"
   ]
  },
  {
   "cell_type": "markdown",
   "metadata": {
    "id": "QbfDVERNRaA3"
   },
   "source": [
    "## 2.2.1. Inspect this file\n",
    "\n",
    "*Tip:* Open the ``ingredient-ingredient.gml`` file in a text editor first to see how it is structured.\n",
    "\n",
    "\n",
    "## 2.2.2. Import this file into Cytoscape\n",
    "\n",
    "To import this file into Cytoscape:\n",
    "\n",
    "* `File > Import > Network from file ...`\n",
    "* Open the `ingredient-ingredient.gml` file\n",
    "\n",
    "Now we need to import ingredient categories:\n",
    "\n",
    "* `File > Import > Table from file ...`\n",
    "* Open the `ingredients.tsv` file\n",
    "* Import data as \"Node Table Columns\"\n",
    "* `ingredient_name`: key\n",
    "* `ingredient_category`: attribute\n",
    "\n",
    "Do a `Layout > Edge weighted spring embedded` layout on the *weight* attribute.\n",
    "\n",
    "### 2.2.3. Style and add simple annotations\n",
    "\n",
    "Style lines connecting nodes so their thickness and color reflects the number of compounds in common.\n",
    "\n",
    "Color the nodes with colors representing the ingredient categories. Note that if you right-click on \"Mapping type\" when creating a discrete mapping, you can use an automatic mapping generator to start with.\n",
    "\n",
    "Save the main connected component of this graph as `ingr-ingr.png` using `File > Export > Network to image ...`.\n",
    "\n",
    "Save a legend as `ingr-ingr-legend.gif` using the hamburger menu in `Style`and selecting `Create legend ...`\n",
    "\n",
    "The next cell should display your graph and its legend.\n",
    "\n",
    "<font size=\"-1\" color=\"gray\">(Remove this cell when delivering.)</font>"
   ]
  },
  {
   "cell_type": "code",
   "execution_count": null,
   "metadata": {
    "colab": {
     "base_uri": "https://localhost:8080/",
     "height": 287
    },
    "executionInfo": {
     "elapsed": 162,
     "status": "ok",
     "timestamp": 1753376726538,
     "user": {
      "displayName": "aleix nicolas",
      "userId": "12034091342593218588"
     },
     "user_tz": -120
    },
    "id": "MGFLF6WxRaA3",
    "outputId": "13d8506a-a166-4860-8ccc-a95af1630df7"
   },
   "outputs": [],
   "source": [
    "# Keep as-is\n",
    "# Change width if necessary\n",
    "\n",
    "Image(url=\"ingr-ingr.png\", width=1200)"
   ]
  },
  {
   "cell_type": "code",
   "execution_count": null,
   "metadata": {
    "colab": {
     "base_uri": "https://localhost:8080/",
     "height": 423
    },
    "executionInfo": {
     "elapsed": 114,
     "status": "ok",
     "timestamp": 1753376728968,
     "user": {
      "displayName": "aleix nicolas",
      "userId": "12034091342593218588"
     },
     "user_tz": -120
    },
    "id": "JjJTk8z_ZTZs",
    "outputId": "e4515daa-dfd6-43e5-e89f-dbca80a1de97"
   },
   "outputs": [],
   "source": [
    "# Keep as-is\n",
    "# Change width if necessary\n",
    "\n",
    "Image(url=\"ingr-ingr-legend.gif\", width=1200)\n"
   ]
  },
  {
   "cell_type": "raw",
   "metadata": {},
   "source": [
    "Remember to save this notebook along with all images in the same folder and compresss it before uploading."
   ]
  },
  {
   "cell_type": "markdown",
   "metadata": {
    "id": "JfzglGMgRaA4"
   },
   "source": [
    "<font size=\"+2\" color=\"#003300\">I hereby declare that, except for the code provided by the course instructors, all of my code, report, and figures were produced by myself.</font>\n"
   ]
  }
 ],
 "metadata": {
  "colab": {
   "provenance": []
  },
  "kernelspec": {
   "display_name": "Python 3 (ipykernel)",
   "language": "python",
   "name": "python3"
  },
  "language_info": {
   "codemirror_mode": {
    "name": "ipython",
    "version": 3
   },
   "file_extension": ".py",
   "mimetype": "text/x-python",
   "name": "python",
   "nbconvert_exporter": "python",
   "pygments_lexer": "ipython3",
   "version": "3.11.13"
  }
 },
 "nbformat": 4,
 "nbformat_minor": 4
}
