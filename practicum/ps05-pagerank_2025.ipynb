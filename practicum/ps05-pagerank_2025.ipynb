{
 "cells": [
  {
   "cell_type": "markdown",
   "metadata": {
    "id": "P80K_SsmkG2f"
   },
   "source": [
    "# Practice Session 05: PageRank\n",
    "\n",
    "*Introduction to Network Science* (2025/26), UPF"
   ]
  },
  {
   "cell_type": "markdown",
   "metadata": {
    "id": "ghXprWmTkG2i"
   },
   "source": [
    "We will compute PageRank on a graph that represents the web of UK around 2007. Each node is a host, and there is a link between two hosts if there is a web page in one of them pointing to a web page in the other one. This network is weighted: the weight is the number of pages that point from one host to the other one.\n",
    "\n",
    "The collection we will use, [WEBSPAM-UK2007](http://chato.cl/webspam/datasets/uk2007/), has been used in multiple studies on the effect of web spam. Feel free to decompress these files to inspect them, **but your code must read only these files in compressed form**:\n",
    "\n",
    "* ``webspam_uk2007-nodes.csv.gz`` contains (``nodeid``, ``hostname``, ``label``) records\n",
    "* ``webspam_uk2007-edges.csv.gz`` contains (``source``, ``destination``, ``weight``) records\n",
    "\n",
    "Your task is to compute PageRank twice: first considering all the links, and then ignoring links from or to a known spam host.\n",
    "\n",
    "<font size=\"-1\" color=\"gray\">(Remove this cell when delivering.)</font>"
   ]
  },
  {
   "cell_type": "markdown",
   "metadata": {
    "id": "_-zwjnnLkG2k"
   },
   "source": [
    "# 1. Read host names"
   ]
  },
  {
   "cell_type": "markdown",
   "metadata": {
    "id": "OmgjeX7ikG2m"
   },
   "source": [
    "Read the names of the nodes and the labels. For this, you can use [`csv.DictReader()`](https://docs.python.org/3/library/csv.html#csv.DictReader). Suppose ``FILENAME`` points to a file with the following contents:\n",
    "\n",
    "```\n",
    "a,b,c,d\n",
    "1,2,3,4\n",
    "5,6,7,8\n",
    "```\n",
    "\n",
    "The following code:\n",
    "\n",
    "```python\n",
    "with gzip.open(FILENAME, \"rt\", encoding=\"utf-8\") as input_file:\n",
    "    reader = csv.DictReader(input_file, delimiter=',', quotechar='\"')\n",
    "    for record in reader:\n",
    "        print(record[\"b\"])\n",
    "```\n",
    "\n",
    "Prints:\n",
    "\n",
    "```\n",
    "2\n",
    "6\n",
    "```\n",
    "\n",
    "Remember in the `INPUT_NODES_FILENAME` each record contains ``nodeid``, ``hostname``, and ``label``.\n",
    "\n",
    "Create a nested dictionary `hosts`, which has `hostid`s as keys and host data dictionaries as values: with a \"name\" field to hold the `hostname` and \"label\" field to hold `label`. That is, hosts will have a structure like:\n",
    "\n",
    "```plain\n",
    "{\n",
    "    id_of_host_1: {\n",
    "        \"name\": host_1_name,\n",
    "        \"label\" : host_1_label\n",
    "    },\n",
    "    id_of_host_2: {\n",
    "        ...\n",
    "    },\n",
    "    ...\n",
    "}\n",
    "```\n",
    "\n",
    "Additionally, record a name to id mapping into a dictionary `name2id`. They keys (`nodeid`s) in both dictionaries should be converted to integers using ``int()``.\n",
    "\n",
    "<font size=\"-1\" color=\"gray\">(Remove this cell when delivering.)</font>"
   ]
  },
  {
   "cell_type": "code",
   "execution_count": 2,
   "metadata": {
    "ExecuteTime": {
     "end_time": "2024-10-20T14:06:41.606524Z",
     "start_time": "2024-10-20T14:06:41.153352Z"
    },
    "id": "k8kGAQrqkG2n"
   },
   "outputs": [],
   "source": [
    "# Imports — leave as is\n",
    "\n",
    "import gzip\n",
    "import csv\n",
    "import networkx as nx\n",
    "import matplotlib.pyplot as plt"
   ]
  },
  {
   "cell_type": "code",
   "execution_count": 3,
   "metadata": {
    "ExecuteTime": {
     "end_time": "2024-10-20T14:06:41.619064Z",
     "start_time": "2024-10-20T14:06:41.617277Z"
    },
    "id": "xO1So7hAkG2o"
   },
   "outputs": [],
   "source": [
    "# Input file locations — you might need to change these depending on where you stored your files\n",
    "\n",
    "INPUT_NODES_FILENAME = \"data/webspam-uk2007/webspam_uk2007-nodes.csv.gz\"\n",
    "INPUT_EDGES_FILENAME = \"data/webspam-uk2007/webspam_uk2007-edges.csv.gz\""
   ]
  },
  {
   "cell_type": "markdown",
   "metadata": {
    "id": "CWt69XlGkG2r"
   },
   "source": [
    "<font size=\"+1\" color=\"red\">Replace this cell with your code to read the ``INPUT_NODES_FILENAME`` file into `hosts` and `name2id`.</font>"
   ]
  },
  {
   "cell_type": "code",
   "execution_count": 4,
   "metadata": {},
   "outputs": [],
   "source": [
    "hosts = {}\n",
    "name2id = {}\n",
    "\n",
    "with gzip.open(INPUT_NODES_FILENAME, \"rt\", encoding=\"utf-8\") as f:\n",
    "    reader = csv.DictReader(f)\n",
    "    for row in reader:\n",
    "        nodeid = int(row[\"nodeid\"])\n",
    "        hostname = row[\"hostname\"]\n",
    "        label = row[\"label\"]\n",
    "        \n",
    "        hosts[nodeid] = {\n",
    "            \"name\": hostname,\n",
    "            \"label\": label\n",
    "        }\n",
    "        name2id[hostname] = nodeid"
   ]
  },
  {
   "cell_type": "markdown",
   "metadata": {
    "id": "wkN-MIiKkG2t"
   },
   "source": [
    "Verify that you read correctly the file. The following will test two known hosts: *873* should be the BBC (a non-spam site) and *105715* should be a spam website that used to sell mobile phones.\n",
    "\n",
    "If you get a `KeyError` error, most likely you did not convert the ids to integers.\n",
    "\n",
    "<font size=\"-1\" color=\"gray\">(Remove this cell when delivering.)</font>"
   ]
  },
  {
   "cell_type": "code",
   "execution_count": 5,
   "metadata": {
    "ExecuteTime": {
     "end_time": "2024-09-19T09:24:27.842575Z",
     "start_time": "2024-09-19T09:24:27.840154Z"
    },
    "id": "2ZAbZBVRkG2v",
    "outputId": "9085c2c8-4fc7-403b-9d17-60bcf879db10"
   },
   "outputs": [
    {
     "name": "stdout",
     "output_type": "stream",
     "text": [
      "Number of hosts: 114529\n",
      "bbc.co.uk: nonspam\n",
      "www.top-mobile-phones.co.uk: spam\n"
     ]
    }
   ],
   "source": [
    "# Leave as-is\n",
    "\n",
    "print(\"Number of hosts: %s\" % len(hosts))\n",
    "print(\"%s: %s\" % (hosts[873]['name'], hosts[873]['label']))\n",
    "print(\"%s: %s\" % (hosts[105715]['name'], hosts[105715]['label']))"
   ]
  },
  {
   "cell_type": "markdown",
   "metadata": {
    "id": "zNb4__QPkG2x"
   },
   "source": [
    "Next, print how many hosts and what percentage have label `spam`, `nonspam`, and `unlabeled`.\n",
    "\n",
    "<font size=\"-1\" color=\"gray\">(Remove this cell when delivering.)</font>"
   ]
  },
  {
   "cell_type": "markdown",
   "metadata": {
    "id": "kw3EiTZrkG2x"
   },
   "source": [
    "<font size=\"+1\" color=\"red\">Replace this cell with your code to print the number and percentage of the hosts are spam, nonspam, and unlabeled. The latter should be the large majority. Format the number with thousand separators and the percentage with one decimal (e.g., ``unlabeled: 108,476 (94.7%)``).</font>"
   ]
  },
  {
   "cell_type": "code",
   "execution_count": 7,
   "metadata": {},
   "outputs": [
    {
     "name": "stdout",
     "output_type": "stream",
     "text": [
      "spam: 344 (0.3%)\n",
      "nonspam: 5,709 (5.0%)\n",
      "unlabeled: 108,476 (94.7%)\n"
     ]
    }
   ],
   "source": [
    "\n",
    "spam_count = 0\n",
    "nonspam_count = 0\n",
    "unlabeled_count = 0\n",
    "\n",
    "\n",
    "for nodeid in hosts:\n",
    "    label = hosts[nodeid][\"label\"]\n",
    "    if label == \"spam\":\n",
    "        spam_count += 1\n",
    "    elif label == \"nonspam\":\n",
    "        nonspam_count += 1\n",
    "    elif label == \"unlabeled\":\n",
    "        unlabeled_count += 1\n",
    "\n",
    "total_hosts = len(hosts)\n",
    "\n",
    "spam_pct = (spam_count / total_hosts) * 100\n",
    "nonspam_pct = (nonspam_count / total_hosts) * 100\n",
    "unlabeled_pct = (unlabeled_count / total_hosts) * 100\n",
    "\n",
    "print(f\"spam: {spam_count:,} ({spam_pct:.1f}%)\")\n",
    "print(f\"nonspam: {nonspam_count:,} ({nonspam_pct:.1f}%)\")\n",
    "print(f\"unlabeled: {unlabeled_count:,} ({unlabeled_pct:.1f}%)\")\n"
   ]
  },
  {
   "cell_type": "markdown",
   "metadata": {
    "id": "glwFGlP6kG2z"
   },
   "source": [
    "Now let's explore a small part of the graph. For this, you will need to open the file `INPUT_EDGES_FILENAME` which contains columns `source`, `destination`, and `weight` indicating that some pages in host id `source` point to pages in host id `destination`. The number of such pages is the `weight`.\n",
    "\n",
    "The graph is too large so we will focus on three categories that tend to be heavily spammed: shopping, financial services and adult content. We will filter by the following keywords:\n",
    "\n",
    "```python\n",
    "    spammywords = ['credit', 'free', 'mortgage', 'jackpot', 'casino', 'wealthy', 'luxury', 'shop', 'replica', 'finance', 'debt', 'loan', 'discount', 'escort', 'xx', 'girl', 'mistress', 'important', 'attention']\n",
    "```\n",
    "\n",
    "Now, create a directed graph (a NetworkX `DiGraph()`) containing all the edges that fulfil ***all three* of the following conditions**:\n",
    "\n",
    "1. The source contains one of the `spammywords` **or** the destination contains one of the `spammywords` (you can check substring membership easily with the [`in` operator](https://mimo.org/glossary/python/in-operator))\n",
    "1. The source is labeled as either `spam` or `nonspam`\n",
    "1. The destination is labeled as either `spam` or `nonspam`\n",
    "\n",
    "Your graph should have nodes that are hostnames, so whenever you find such an edge in the input file, you should do:\n",
    "\n",
    "```python\n",
    "    g.add_edge(hosts[source]['name'], hosts[destination]['name'])\n",
    "```\n",
    "\n",
    "Print the number of nodes in the resulting graph, it should be less than 200.\n",
    "\n",
    "<font size=\"-1\" color=\"gray\">(Remove this cell when delivering.)</font>"
   ]
  },
  {
   "cell_type": "markdown",
   "metadata": {
    "id": "nsEqq0eNkG2z"
   },
   "source": [
    "<font size=\"+1\" color=\"red\">Replace this cell with your code to load a subgraph of the input graph, as described above.</font>"
   ]
  },
  {
   "cell_type": "markdown",
   "metadata": {
    "id": "K1UyrEJMkG20"
   },
   "source": [
    "The following code displays this subgraph. You can modify it if you wish, as long as the output is readable.\n",
    "\n",
    "<font size=\"-1\" color=\"gray\">(Remove this cell when delivering.)</font>"
   ]
  },
  {
   "cell_type": "code",
   "execution_count": 6,
   "metadata": {
    "ExecuteTime": {
     "end_time": "2024-09-19T09:34:38.967991Z",
     "start_time": "2024-09-19T09:34:38.412827Z"
    },
    "id": "ArBgnSfckG20",
    "outputId": "c8adcaae-1437-4d74-a816-703951ab61e5"
   },
   "outputs": [
    {
     "ename": "NameError",
     "evalue": "name 'g' is not defined",
     "output_type": "error",
     "traceback": [
      "\u001b[31m---------------------------------------------------------------------------\u001b[39m",
      "\u001b[31mNameError\u001b[39m                                 Traceback (most recent call last)",
      "\u001b[36mCell\u001b[39m\u001b[36m \u001b[39m\u001b[32mIn[6]\u001b[39m\u001b[32m, line 6\u001b[39m\n\u001b[32m      3\u001b[39m colors = []\n\u001b[32m      4\u001b[39m hostname_converted = {}\n\u001b[32m----> \u001b[39m\u001b[32m6\u001b[39m \u001b[38;5;28;01mfor\u001b[39;00m hostname \u001b[38;5;129;01min\u001b[39;00m \u001b[43mg\u001b[49m.nodes():\n\u001b[32m      7\u001b[39m     \u001b[38;5;66;03m# Assign colors to nodes according to spam/nonspam labels\u001b[39;00m\n\u001b[32m      8\u001b[39m     \u001b[38;5;28;01mif\u001b[39;00m hosts[name2id[hostname]][\u001b[33m'\u001b[39m\u001b[33mlabel\u001b[39m\u001b[33m'\u001b[39m] == \u001b[33m'\u001b[39m\u001b[33mspam\u001b[39m\u001b[33m'\u001b[39m:\n\u001b[32m      9\u001b[39m         colors.append(\u001b[33m'\u001b[39m\u001b[33mred\u001b[39m\u001b[33m'\u001b[39m)\n",
      "\u001b[31mNameError\u001b[39m: name 'g' is not defined"
     ]
    }
   ],
   "source": [
    "# Leave this code as-is, or modify slightly\n",
    "\n",
    "colors = []\n",
    "hostname_converted = {}\n",
    "\n",
    "for hostname in g.nodes():\n",
    "    # Assign colors to nodes according to spam/nonspam labels\n",
    "    if hosts[name2id[hostname]]['label'] == 'spam':\n",
    "        colors.append('red')\n",
    "    elif hosts[name2id[hostname]]['label'] == 'nonspam':\n",
    "        colors.append('lightgreen')\n",
    "    else:\n",
    "        colors.append('white')\n",
    "\n",
    "    # Shorten the hostnames to generate labels\n",
    "    label = hostname.replace(\"www.\", \"\").replace(\".uk\", \"\")\n",
    "    hostname_converted[hostname] = label\n",
    "\n",
    "# Notice that if you re-run this cell the layout will be different every time\n",
    "plt.figure(figsize=(15, 15))\n",
    "plt.axis('off')\n",
    "pos = nx.spring_layout(g)\n",
    "nx.draw_networkx(g, pos, with_labels=True, node_size=400, node_color=colors, labels=hostname_converted)"
   ]
  },
  {
   "cell_type": "markdown",
   "metadata": {
    "id": "IT0ZtDUPkG21"
   },
   "source": [
    "<font size=\"+1\" color=\"red\">Replace this cell with a brief commentary on what you see in the plot above.</font>"
   ]
  },
  {
   "cell_type": "markdown",
   "metadata": {},
   "source": [
    "Let's use this example as a brief exercise to cement the theory, in particular the difference between conditional and joint probabilities and how these apply to edges on a network.\n",
    "\n",
    "You should calculate the following probabilities (keep in mind edges are directed):\n",
    "* The (marginal) probability of observing and edge A->B where A is a spam node.\n",
    "* The (joint) probability of observing a spam->nonspam edge in the network.\n",
    "* The (conditional) probability of observing a spam->nonspam edge, *given that* we start from a spam node.\n",
    "\n",
    "Write some code to calculate these probabilities. It should take no more than a few lines of code. Think simple!\n",
    "\n",
    "<font size=\"-1\" color=\"gray\">(Remove this cell when delivering.)</font>"
   ]
  },
  {
   "cell_type": "markdown",
   "metadata": {},
   "source": [
    "<font size=\"+1\" color=\"red\">Replace this cell with code to calculate the probabilities described above. Then briefly comment, do these values make sense to you?</font>"
   ]
  },
  {
   "cell_type": "markdown",
   "metadata": {
    "id": "7-Ljasc8kG21"
   },
   "source": [
    "# 2. Compute the degree of each node"
   ]
  },
  {
   "cell_type": "markdown",
   "metadata": {
    "id": "eqHo03x4kG21"
   },
   "source": [
    "Compute the **out-degree** of each node and store it in a dictionary `id2degree`. (Remember we need this for the PageRank algorithm.) \n",
    "\n",
    "Do this while reading the edges file, without storing the graph in main memory. Remember that this file contains ``source``, ``destination``, ``weight`` records.\n",
    "\n",
    "<font size=\"-1\" color=\"gray\">(Remove this cell when delivering.)</font>"
   ]
  },
  {
   "cell_type": "code",
   "execution_count": null,
   "metadata": {
    "ExecuteTime": {
     "end_time": "2024-10-20T14:07:25.180217Z",
     "start_time": "2024-10-20T14:07:25.172916Z"
    },
    "id": "jawydm4pkG21"
   },
   "outputs": [],
   "source": [
    "# Leave this code as-is\n",
    "\n",
    "# Initialize id2degree dict\n",
    "id2degree = {}\n",
    "N = len(hosts)\n",
    "for nodeid in range(N):\n",
    "    id2degree[nodeid] = 0"
   ]
  },
  {
   "cell_type": "markdown",
   "metadata": {
    "id": "4VoghglIkG21"
   },
   "source": [
    "<font size=\"+1\" color=\"red\">Replace this cell with your code to read the degrees of nodes into `id2degree`.</font>"
   ]
  },
  {
   "cell_type": "markdown",
   "metadata": {
    "id": "sMA9omwEkG22"
   },
   "source": [
    "Verify that you are reading correctly the file. The following cell should print:\n",
    "\n",
    "```plain\n",
    "www.instrumentfinance.co.uk: degree 262\n",
    "amazon.co.uk: degree 6\n",
    "www.iso9000uk.co.uk: degree 38\n",
    "```\n",
    "\n",
    "If you get a key not found error, most likely you did not convert the ids to integers or you did not initialize the id2degree.\n",
    "\n",
    "<font size=\"-1\" color=\"gray\">(Remove this cell when delivering.)</font>"
   ]
  },
  {
   "cell_type": "code",
   "execution_count": null,
   "metadata": {
    "ExecuteTime": {
     "end_time": "2024-10-20T14:08:25.653282Z",
     "start_time": "2024-10-20T14:08:25.650901Z"
    },
    "id": "EWjA7CTQkG22",
    "outputId": "c73fdc24-51ae-42f8-91fd-f514fc29ac60"
   },
   "outputs": [
    {
     "name": "stdout",
     "output_type": "stream",
     "text": [
      "www.instrumentfinance.co.uk: degree 262\n",
      "amazon.co.uk: degree 6\n",
      "www.iso9000uk.co.uk: degree 38\n"
     ]
    }
   ],
   "source": [
    "# Leave this cell as-is\n",
    "\n",
    "for nodeid in [61914, 479, 62730]:\n",
    "    print(f\"{hosts[nodeid]['name']}: degree {id2degree[nodeid]}\")"
   ]
  },
  {
   "cell_type": "markdown",
   "metadata": {
    "id": "mIn4cGtMkG23"
   },
   "source": [
    "# 3. Compute PageRank"
   ]
  },
  {
   "cell_type": "markdown",
   "metadata": {
    "id": "C8gUxjvkkG27"
   },
   "source": [
    "Perform `ITERATIONS=25` iterations with `ALPHA=0.91`. In each iteration, you will read the file of the graph, **without loading the entire graph in memory**. This means each iteration involves opening (and implicitly, closing) the edges file.\n",
    "\n",
    "Your code should do the following:\n",
    "\n",
    "* At the beginning, initialize the vector `pagerank` as a vector of 1/N and the vector `pagerank_aux` as a vector of 0s.\n",
    "* For `iterations` iterations:\n",
    "   * Read the graph and for every link from *source* to *destination*:\n",
    "      * Add to `pagerank_aux[destination]` the value `pagerank[source]/degree`, where `degree` is the out-degree of the source node (i.e, its number of out-links).\n",
    "   * Set `pagerank` of every node to `alpha x pagerank_aux + (1.0-alpha) x (1.0/N)`.\n",
    "   * Normalize the values of `pagerank` so they add up to 1.0\n",
    "   * Compute and print `delta` as the sumation of the absolute changes in PageRank between this iteration and the previous one; this value should decrease from one iteration to the next\n",
    "   * Set `pagerank_aux` to 0.0\n",
    "\n",
    "Remember: do not keep the graph in memory, because that will limit the size of the graphs your code can handle. At every iteration you must read the file again. You can use the following template:\n",
    "\n",
    "```python\n",
    "for iteration in range(ITERATIONS):\n",
    "    print(f\"Iteration {iteration+1} of {ITERATIONS}\")\n",
    "    with gzip.open(INPUT_EDGES_FILENAME, \"rt\", encoding=\"utf-8\") as input_file:\n",
    "        ...\n",
    "\n",
    "```\n",
    "\n",
    "After each iteration, print the `delta` with 4 decimals. This sum should be, in general, decreasing.\n",
    "\n",
    "<font size=\"-1\" color=\"gray\">(Remove this cell when delivering.)</font>"
   ]
  },
  {
   "cell_type": "code",
   "execution_count": null,
   "metadata": {
    "ExecuteTime": {
     "end_time": "2024-09-19T10:21:21.094280Z",
     "start_time": "2024-09-19T10:21:21.091435Z"
    },
    "id": "HaDPp8tLkG27"
   },
   "outputs": [],
   "source": [
    "# Leave this cell as-is\n",
    "\n",
    "ITERATIONS = 25\n",
    "ALPHA = 0.91\n",
    "\n",
    "pagerank = [1.0/N] * N\n",
    "pagerank_aux = [0.0] * N"
   ]
  },
  {
   "cell_type": "markdown",
   "metadata": {
    "id": "s7UmNpr0kG27"
   },
   "source": [
    "<font size=\"+1\" color=\"red\">Replace this cell with your code to compute PageRank.</font>"
   ]
  },
  {
   "cell_type": "markdown",
   "metadata": {
    "id": "_LFXEcpLkG28"
   },
   "source": [
    "# 4. Nodes with largest values of PageRank"
   ]
  },
  {
   "cell_type": "markdown",
   "metadata": {
    "id": "ucbp8P1hkG29"
   },
   "source": [
    "Print the top 20 hosts by PageRank, including the host name, and the PageRank value with 6 decimals.\n",
    "\n",
    "You can use the `enumerate()` function which converts a list `[a, b, c]` into `[(0,a), (1,b), (2,c)]` and then `sort()` as follows. Suppose ``score`` contains ``[0.2, 0.7, 0.4]``:\n",
    "\n",
    "```python\n",
    "hosts_by_score = sorted(enumerate(score), key=lambda x: x[1], reverse=True)\n",
    "```\n",
    "\n",
    "Will return the list `[(1,0.7), (2,0.4), (0,0.2)]`\n",
    "\n",
    "<font size=\"-1\" color=\"gray\">(Remove this cell when delivering.)</font>"
   ]
  },
  {
   "cell_type": "markdown",
   "metadata": {
    "id": "nSb0VGqSkG29"
   },
   "source": [
    "<font size=\"+1\" color=\"red\">Replace this cell with code to print the 20 hosts having the largest PageRank. Print the host `name`, `label`, and score with 6 decimals. Write a function because we will need to do this again.</font>"
   ]
  },
  {
   "cell_type": "markdown",
   "metadata": {
    "id": "-yJqtsNIkG2-"
   },
   "source": [
    "<font size=\"+1\" color=\"red\">\n",
    "Replace this cell with a brief commentary indicating: \n",
    "\n",
    "1. Why do you think the top sites are those ones; and\n",
    "2. What is the percentage of commercial, government, and educational sites you see among the top 20?\n",
    "\n",
    "</font>"
   ]
  },
  {
   "cell_type": "markdown",
   "metadata": {
    "id": "DLMkk237kG2-"
   },
   "source": [
    "# 5. Run non-spam PageRank"
   ]
  },
  {
   "cell_type": "markdown",
   "metadata": {
    "id": "j5He-K3skG2_"
   },
   "source": [
    "Now, write code and run non-spam PageRank. For this, simply ignore any link in which the source and the destination are known spam hosts.\n",
    "\n",
    "You can query this with something like\n",
    "\n",
    "```python\n",
    "hosts[source]['label'] != \"spam\" and hosts[destination]['label'] != \"spam\"\n",
    "```\n",
    "\n",
    "For this, you first need to compute the \"no-spam degree\" of the nodes in a dictionary `id2nsdegree` (\"ns\" stands for **n**on-**s**pam), and use that in the PageRank algorithm.\n",
    "\n",
    "<font size=\"-1\" color=\"gray\">(Remove this cell when delivering.)</font>"
   ]
  },
  {
   "cell_type": "markdown",
   "metadata": {
    "id": "mD5IAq_FkG3G"
   },
   "source": [
    "<font size=\"+1\" color=\"red\">Replace this cell with code to compute `id2nsdegree`.</font>"
   ]
  },
  {
   "cell_type": "markdown",
   "metadata": {
    "id": "CWj4caDGkG3H"
   },
   "source": [
    "Verify that you are reading correctly the file. The following cell should print:\n",
    "\n",
    "```plain\n",
    "www.instrumentfinance.co.uk: normal degree 262 nospam degree 258\n",
    "amazon.co.uk: normal degree 6 nospam degree 6\n",
    "www.iso9000uk.co.uk: normal degree 38 nospam degree 37\n",
    "```\n",
    "\n",
    "<font size=\"-1\" color=\"gray\">(Remove this cell when delivering.)</font>"
   ]
  },
  {
   "cell_type": "code",
   "execution_count": null,
   "metadata": {
    "ExecuteTime": {
     "end_time": "2024-10-20T14:08:42.469867Z",
     "start_time": "2024-10-20T14:08:42.467604Z"
    },
    "id": "5znd_xhYkG3H",
    "outputId": "134bb066-4049-4193-9d95-5f2a5c3931f3"
   },
   "outputs": [
    {
     "name": "stdout",
     "output_type": "stream",
     "text": [
      "www.instrumentfinance.co.uk: normal degree 262 nospam degree 258\n",
      "amazon.co.uk: normal degree 6 nospam degree 6\n",
      "www.iso9000uk.co.uk: normal degree 38 nospam degree 37\n"
     ]
    }
   ],
   "source": [
    "# Leave this cell as-is\n",
    "\n",
    "for nodeid in [61914, 479, 62730]:\n",
    "    print(f\"{hosts[nodeid]['name']}: normal degree {id2degree[nodeid]} nospam degree {id2nsdegree[nodeid]}\")"
   ]
  },
  {
   "cell_type": "markdown",
   "metadata": {
    "id": "-xeltPwpkG3I"
   },
   "source": [
    "<font size=\"+1\" color=\"red\">Replace this cell with code to compute `nspagerank` (non-spam PageRank).</font>"
   ]
  },
  {
   "cell_type": "markdown",
   "metadata": {
    "id": "LMPUXB27kG3I"
   },
   "source": [
    "<font size=\"+1\" color=\"red\">Replace this cell with code to print the 20 hosts having the largest no-spam PageRank scores. Print the host `name`, `label`, and score with 6 decimals.</font>"
   ]
  },
  {
   "cell_type": "markdown",
   "metadata": {
    "id": "aTIbf6LBkG3J"
   },
   "source": [
    "<font size=\"+1\" color=\"red\">Replace this cell with a brief commentary indicating if you see any differences between the non-spam PageRank scores of these hosts and their regular PageRank scores.</font>"
   ]
  },
  {
   "cell_type": "markdown",
   "metadata": {
    "id": "bTbeJ97bkG3J"
   },
   "source": [
    "# 6. Compute spam gain"
   ]
  },
  {
   "cell_type": "markdown",
   "metadata": {
    "id": "kK2r0mmkkG3J"
   },
   "source": [
    "Finally, compute the gain of every host as *(Normal PageRank) / (No spam PageRank)*.\n",
    "\n",
    "Among the top 50 hosts you might find many \"spam\" (business that look ilegitimate or that tend to rely on spam such as gambling, pornography, counterfeits, and scams). You might also find \"normal\" sites (i.e., websites that look legitimate), because spammers also point to legitimate sites to disguise their actions.\n",
    "\n",
    "For each of the top 50 hosts, print the following:\n",
    "\n",
    "* The hostname\n",
    "* Its label (spam/nonspam)\n",
    "* Their gain *(Normal PageRank) / (No spam PageRank)* with two decimals (e.g., \"3.22\")\n",
    "* Their PageRank in scientific notation with two significant digits (e.g., \"5.8e-06\")\n",
    "* Their no-spam-PageRank in scientific notation with two significant digits (e.g., \"5.8e-06\")\n",
    "\n",
    "<font size=\"-1\" color=\"gray\">(Remove this cell when delivering.)</font>"
   ]
  },
  {
   "cell_type": "markdown",
   "metadata": {
    "id": "yRRQIGT6kG3J"
   },
   "source": [
    "<font size=\"+1\" color=\"red\">Replace this cell with your code to print the top 50 hosts by spam gain.</font>"
   ]
  },
  {
   "cell_type": "markdown",
   "metadata": {
    "id": "jDsC6zrxkG3K"
   },
   "source": [
    "<font size=\"+1\" color=\"red\">Replace this cell with a brief explanation, in your own words, of what the spam gain means, what kind of websites have the most spam gain, and what are the effects of using non-spam PageRank.</font>"
   ]
  },
  {
   "cell_type": "markdown",
   "metadata": {
    "id": "nJDO5jszkG3L"
   },
   "source": [
    "# Deliver (individually)\n",
    "\n",
    "A `.zip` file containing:\n",
    "\n",
    "* This notebook.\n",
    "\n",
    "<font size=\"-1\" color=\"gray\">(Remove this cell when delivering.)</font>"
   ]
  },
  {
   "cell_type": "markdown",
   "metadata": {
    "id": "ar9HGtR4kG3L"
   },
   "source": [
    "<font size=\"+2\" color=\"#003300\">I hereby declare that, except for the code provided by the course instructors, all of my code, report, and figures were produced by myself.</font>"
   ]
  }
 ],
 "metadata": {
  "colab": {
   "provenance": []
  },
  "kernelspec": {
   "display_name": "flavors-venv",
   "language": "python",
   "name": "flavors-venv"
  },
  "language_info": {
   "codemirror_mode": {
    "name": "ipython",
    "version": 3
   },
   "file_extension": ".py",
   "mimetype": "text/x-python",
   "name": "python",
   "nbconvert_exporter": "python",
   "pygments_lexer": "ipython3",
   "version": "3.11.2"
  }
 },
 "nbformat": 4,
 "nbformat_minor": 0
}
