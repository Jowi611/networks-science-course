{
 "cells": [
  {
   "cell_type": "markdown",
   "id": "77ed273332e2fadc",
   "metadata": {
    "id": "77ed273332e2fadc"
   },
   "source": [
    "# Practice Session 03: Networks from text\n",
    "\n",
    "*Introduction to Network Science* (2025/26), UPF"
   ]
  },
  {
   "cell_type": "markdown",
   "id": "12a9393430d5bd1",
   "metadata": {
    "id": "12a9393430d5bd1"
   },
   "source": [
    "In this session we will learn to construct a network from a set of implicit relationships. The relationships that we will study are between accounts on Twitter (currently X), a micro-blogging service.\n",
    "\n",
    "We will create two networks: one directed and one undirected.\n",
    "\n",
    "* In the **directed mention network**, we will say that there is a link of weight *w* from account *x* to account *y*, if account *x* has re-tweeted (re-posted) or mentioned *w* times account *y*.\n",
    "\n",
    "* In the **undirected co-mention network**, we will say that there is a link of weight *w* between accounts *x* and *y*, if both accounts have been mentioned together in *w* tweets.\n",
    "\n",
    "The input material you will use is a file named `CovidLockdownCatalonia.json.gz` available in the [`data/`](data/) directory. This is a gzip-compressed file, which you can de-compress using the `gunzip` command. The file contains around 35,500 messages (\"tweets\") posted between March 13th, 2020, and March 14th, 2020, containing a hashtag or keyword related to COVID-19, and posted by a user declaring a location in Catalonia.\n",
    "\n",
    "The tweets are in a format known as [JSON](https://en.wikipedia.org/wiki/JSON#Example). That means every line in the file (corresponding to one tweet) represents a valid JSON object. Python's `json` library takes care of translating it into a dictionary.\n",
    "\n",
    "**How was this file obtained?** This file was obtained from [CrisisNLP](https://crisisnlp.qcri.org/covid19). This is a website that provides COVID-19 collections of tweets, however, they only provide the identifier of the tweet, known as a tweet-id. To recover the entire tweet, a process commonly known as *re-hydration* was used, which involves querying an API from Twitter, giving the tweet-id, and obtaining the tweet. This can be done with a little bit of programming or using a software such as [twarc](https://github.com/DocNow/twarc#dehydrate).\n",
    "\n",
    "<font size=\"-1\" color=\"gray\">(Remove this cell when delivering.)</font>"
   ]
  },
  {
   "cell_type": "markdown",
   "id": "bf09cd17510c16e1",
   "metadata": {
    "id": "bf09cd17510c16e1"
   },
   "source": [
    "Author: <font color=\"blue\">Your name here</font>\n",
    "\n",
    "E-mail: <font color=\"blue\">Your e-mail here</font>\n",
    "\n",
    "Date: <font color=\"blue\">The current date here</font>"
   ]
  },
  {
   "cell_type": "markdown",
   "id": "a817a25ae5522652",
   "metadata": {
    "id": "a817a25ae5522652"
   },
   "source": [
    "# 1. Create the directed mention network"
   ]
  },
  {
   "cell_type": "markdown",
   "id": "31d837ae5f06a13d",
   "metadata": {
    "id": "31d837ae5f06a13d"
   },
   "source": [
    "Create the **directed mention network**, which has a weighted edge (source, target, weight) if user *source* mentioned user *target* at least once; with *weight* indicating the number of mentions.\n",
    "\n",
    "Create two files: one containing all edges, and one containing all edges having *weight* greater or equal than 3.\n",
    "\n",
    "<font size=\"-1\" color=\"gray\">(Remove this cell when delivering.)</font>"
   ]
  },
  {
   "cell_type": "code",
   "execution_count": 1,
   "id": "fec5a9156a69468",
   "metadata": {
    "ExecuteTime": {
     "end_time": "2024-09-20T13:06:58.191215Z",
     "start_time": "2024-09-20T13:06:58.189083Z"
    },
    "id": "fec5a9156a69468"
   },
   "outputs": [],
   "source": [
    "import io\n",
    "import json\n",
    "import gzip\n",
    "import csv\n",
    "import re"
   ]
  },
  {
   "cell_type": "code",
   "execution_count": 2,
   "id": "31000517e3d3605d",
   "metadata": {
    "ExecuteTime": {
     "end_time": "2024-09-20T13:07:00.921575Z",
     "start_time": "2024-09-20T13:07:00.919377Z"
    },
    "id": "31000517e3d3605d"
   },
   "outputs": [],
   "source": [
    "# Input file\n",
    "COMPRESSED_INPUT_FILENAME = \"data/CovidLockdownCatalonia.json.gz\"   # You may need to change this filepath depending on where you've saved the data file\n",
    "\n",
    "# These are the output files, leave as-is\n",
    "OUTPUT_ALL_EDGES_FILENAME = \"CovidLockdownCatalonia.csv\"\n",
    "OUTPUT_FILTERED_EDGES_FILENAME = \"CovidLockdownCatalonia-min-weight-filtered.csv\"\n",
    "OUTPUT_CO_MENTIONS_FILENAME = \"CovidLockdownCatalonia-co-mentions.csv\""
   ]
  },
  {
   "cell_type": "markdown",
   "id": "8098fa921cc5b574",
   "metadata": {
    "id": "8098fa921cc5b574"
   },
   "source": [
    "## 1.1. Extract mentions"
   ]
  },
  {
   "cell_type": "markdown",
   "id": "d1e2f28da4e0f0b0",
   "metadata": {
    "id": "d1e2f28da4e0f0b0"
   },
   "source": [
    "The `extract_mentions(text)` functions is used to extract user mentions (in format '@username') from text. For instance, if we give it the string `\"RT @elnacionalcat: check this post by @en_blau\"`, it returns the list `['elnacionalcat', 'en_blau']`.\n",
    "\n",
    "You can now print all the people mentioned in a tweet by doing:\n",
    "\n",
    "```python\n",
    "mentions = extract_mentions(message)\n",
    "for mention in mentions:\n",
    "    print(f\"{author} mentioned {mention}\")\n",
    "```\n",
    "\n",
    "<font size=\"-1\" color=\"gray\">(Remove this cell when delivering.)</font>"
   ]
  },
  {
   "cell_type": "code",
   "execution_count": 3,
   "id": "2a02de30aed2900c",
   "metadata": {
    "ExecuteTime": {
     "end_time": "2024-09-20T13:07:03.569054Z",
     "start_time": "2024-09-20T13:07:03.566381Z"
    },
    "id": "2a02de30aed2900c",
    "outputId": "733575b3-4f6f-4b58-959c-32b4bbc688a8"
   },
   "outputs": [
    {
     "name": "stdout",
     "output_type": "stream",
     "text": [
      "['elnacionalcat', 'en_blau']\n"
     ]
    }
   ],
   "source": [
    "# Leave this code as-is\n",
    "\n",
    "def extract_mentions(text):\n",
    "    return re.findall(\"@([a-zA-Z0-9_]{5,20})\", text)\n",
    "\n",
    "print(extract_mentions(\"RT @elnacionalcat: check this post by @en_blau\"))"
   ]
  },
  {
   "cell_type": "markdown",
   "id": "64e4d129833ed0be",
   "metadata": {
    "id": "64e4d129833ed0be"
   },
   "source": [
    "## 1.2. Count mentions\n"
   ]
  },
  {
   "cell_type": "markdown",
   "id": "1288ba9511a342e0",
   "metadata": {
    "id": "1288ba9511a342e0"
   },
   "source": [
    "We do not need to uncompress the input file (it is about 236 MB uncompressed, but only 31 MB compressed), instead we can read it directly while it is compressed using the `gzip` library.\n",
    "\n",
    "For example, to read a file line by line, converting each line to a dictionary with the `json` package, we can do something like: \n",
    "\n",
    "```python\n",
    "with gzip.open(FILENAME, \"rt\", encoding=\"utf-8\") as input_file:\n",
    "    for line in input_file:\n",
    "        tweet = json.loads(line)\n",
    "        print(tweet)\n",
    "```\n",
    "\n",
    "The above code simply prints each line (tweet). Your task is to count the number of times mentions happen, for which you should create and populate a dictionary:\n",
    "\n",
    "```python\n",
    "mentions_counter = {}\n",
    "```\n",
    "\n",
    "Each key in the dictionary will be a tuple `(author, mention)` where `author` is the username of the person who writes the tweet, and `mention` the username of the person mentioned in the tweet. To update the dictionary, read the input file `COMPRESSED_INPUT_FILENAME` line by line and update the key-value pairs in `mentions_counter` for each mention in each tweet.\n",
    "\n",
    "<font size=\"-1\" color=\"gray\">(Remove this cell when delivering.)</font>\n"
   ]
  },
  {
   "cell_type": "markdown",
   "id": "ccd2880cdcd01b3a",
   "metadata": {
    "id": "ccd2880cdcd01b3a"
   },
   "source": [
    "<font size=\"+1\" color=\"red\">Replace this cell with your code to read the compressed input file and create the `mentions_counter` dictionary.</font>"
   ]
  },
  {
   "cell_type": "code",
   "execution_count": null,
   "id": "95390c26",
   "metadata": {},
   "outputs": [
    {
     "ename": "KeyError",
     "evalue": "'text'",
     "output_type": "error",
     "traceback": [
      "\u001b[31m---------------------------------------------------------------------------\u001b[39m",
      "\u001b[31mKeyError\u001b[39m                                  Traceback (most recent call last)",
      "\u001b[36mCell\u001b[39m\u001b[36m \u001b[39m\u001b[32mIn[7]\u001b[39m\u001b[32m, line 6\u001b[39m\n\u001b[32m      4\u001b[39m tweet = json.loads(line)\n\u001b[32m      5\u001b[39m author = tweet[\u001b[33m\"\u001b[39m\u001b[33muser\u001b[39m\u001b[33m\"\u001b[39m][\u001b[33m\"\u001b[39m\u001b[33mscreen_name\u001b[39m\u001b[33m\"\u001b[39m]\n\u001b[32m----> \u001b[39m\u001b[32m6\u001b[39m text = \u001b[43mtweet\u001b[49m\u001b[43m[\u001b[49m\u001b[33;43m\"\u001b[39;49m\u001b[33;43mtext\u001b[39;49m\u001b[33;43m\"\u001b[39;49m\u001b[43m]\u001b[49m\n\u001b[32m      7\u001b[39m mentions = extract_mentions(text)\n\u001b[32m      8\u001b[39m \u001b[38;5;28;01mfor\u001b[39;00m mention \u001b[38;5;129;01min\u001b[39;00m mentions:\n",
      "\u001b[31mKeyError\u001b[39m: 'text'"
     ]
    }
   ],
   "source": [
    "with gzip.open(COMPRESSED_INPUT_FILENAME, \"rt\", encoding=\"utf-8\") as input_file:\n",
    "    mentions_counter = {}\n",
    "    for line in input_file:\n",
    "        tweet = json.loads(line)\n",
    "        author = tweet[\"user\"][\"screen_name\"]\n",
    "        text = tweet[\"full_text\"]\n",
    "        mentions = extract_mentions(text)\n",
    "        for mention in mentions:\n",
    "            key = (author, mention)\n",
    "            mentions_counter[key] = mentions_counter.get(key, 0) + 1\n",
    "            \n",
    "\n",
    "        "
   ]
  },
  {
   "cell_type": "markdown",
   "id": "70427c56821c8a99",
   "metadata": {
    "id": "70427c56821c8a99"
   },
   "source": [
    "Print the number of times the account `joanmariapique` mentioned `catalangov`. It should be 9.\n",
    "\n",
    "<font size=\"-1\" color=\"gray\">(Remove this cell when delivering.)</font>"
   ]
  },
  {
   "cell_type": "code",
   "execution_count": null,
   "id": "325a0d304ae3d6ca",
   "metadata": {
    "ExecuteTime": {
     "end_time": "2024-09-20T13:07:10.729285Z",
     "start_time": "2024-09-20T13:07:10.726963Z"
    },
    "id": "325a0d304ae3d6ca",
    "outputId": "db54fc9b-d2d7-4543-efe1-3c070ddcac7b"
   },
   "outputs": [],
   "source": [
    "print(mentions_counter[('joanmariapique', 'catalangov')])"
   ]
  },
  {
   "cell_type": "markdown",
   "id": "603195ef6172d5d9",
   "metadata": {
    "id": "603195ef6172d5d9"
   },
   "source": [
    "\n",
    "<font size=\"+1\" color=\"red\">Replace this cell with your code to print all the pairs of accounts (u,v) in which account *u* mentioned account *v*, and account *v* mentioned account *u* more than 8 times in total. Do not repeat pairs, i.e., if you print \"Accounts @a and @b mention each other ...\" do not additionally print \"Accounts @b and @a mention each other ...\" only print the sum of the @a and @b co-mentions (\"Accounts @a and @b mention each other N times\")</font>\n"
   ]
  },
  {
   "cell_type": "markdown",
   "id": "cba8853a",
   "metadata": {},
   "source": [
    "## 1.3 Save network"
   ]
  },
  {
   "cell_type": "markdown",
   "id": "cfb8a7c4064d7712",
   "metadata": {
    "id": "cfb8a7c4064d7712"
   },
   "source": [
    "Write a file `OUTPUT_ALL_EDGES_FILENAME` with ***all*** the edges in this graph `(Source, Target, Weight)` as a tab-separated file, and `OUTPUT_FILTERED_EDGES_FILENAME` with edges of weight larger or equal to 3.\n",
    "\n",
    "<font size=\"-1\" color=\"gray\">(Remove this cell when delivering.)</font>"
   ]
  },
  {
   "cell_type": "code",
   "execution_count": null,
   "id": "44b9fbcd1dd2a7f6",
   "metadata": {
    "ExecuteTime": {
     "end_time": "2024-09-20T13:07:14.959373Z",
     "start_time": "2024-09-20T13:07:14.932096Z"
    },
    "id": "44b9fbcd1dd2a7f6"
   },
   "outputs": [],
   "source": [
    "# Leave this code as-is\n",
    "\n",
    "lines_written = 0\n",
    "\n",
    "with io.open(OUTPUT_ALL_EDGES_FILENAME, \"w\") as output_file:\n",
    "    writer = csv.writer(output_file, delimiter='\\t', quotechar='\"')\n",
    "    writer.writerow([\"Source\", \"Target\", \"Weight\"])\n",
    "    for key in mentions_counter:\n",
    "        author = key[0]\n",
    "        mention = key[1]\n",
    "        weight = mentions_counter[key]\n",
    "        writer.writerow([author, mention, weight])\n",
    "        lines_written += 1\n",
    "\n",
    "print(f\"Wrote {lines_written} lines to file {OUTPUT_ALL_EDGES_FILENAME}\")"
   ]
  },
  {
   "cell_type": "markdown",
   "id": "e273eb68abe20522",
   "metadata": {
    "id": "e273eb68abe20522"
   },
   "source": [
    "<font size=\"+1\" color=\"red\">Replace this cell with your code to create a file named `OUTPUT_FILTERED_EDGES_FILENAME` containing all (author, mention) pairs with a value greater or equal to 3.</font>"
   ]
  },
  {
   "cell_type": "markdown",
   "id": "e74d8866678bc80b",
   "metadata": {
    "id": "e74d8866678bc80b"
   },
   "source": [
    "# 2. Visualize the directed mention network\n"
   ]
  },
  {
   "cell_type": "markdown",
   "id": "cf23ddc2",
   "metadata": {},
   "source": [
    "The goal in this section is to extract the largest connected component of the network we just generated, visualize it, and do some basic analysis on it.\n",
    "\n",
    "You have done this with Cytoscape in previous practices, but now we will do it with the [NetworkX](https://networkx.org/) Python package. This is the *de facto* standard tool for network analysis in Python, and it will be a very useful addition to your data analysis and modelling toolbox.\n",
    "\n",
    "Since from now on we will analyze networks programmatically with `networkx`, you will find it necessary and useful to consult the **[NetworkX documentation](https://networkx.org/documentation/stable/index.html)**, especially the [Refernce](https://networkx.org/documentation/stable/reference/index.html) and [Gallery](https://networkx.org/documentation/stable/auto_examples/index.html).\n",
    "\n",
    "(If you wish, you may follow or skim through the [Tutorial](https://networkx.org/documentation/stable/tutorial.html) to get an overview of the syntax and functionality of `networkx`.)\n",
    "\n",
    "---\n",
    "\n",
    ":warning: **Why NetworkX?** There are many tool for network visualization and analysis. Software applications like [Cytoscape](https://cytoscape.org/) and [Gephi](https://gephi.org/) allow for performing basic analysis in a fast, no-coding way, and provide many conveniences for visualization, but they usually have a fixed functionality and are difficult to extend. On the other end of the spectrum, software packages like [graph-tool](https://graph-tool.skewed.de/), [igraph](https://igraph.org/), and [graphviz](https://graphviz.org/#download) provide efficient algorithms for analysis and visualization of large networks, but may be less intuitive and take more time to learn and get used to. [NetworkX](https://networkx.org/) has become popular partly because it sits somewhere in the middle: with easy installation, fairly intuitive API, and decent flexibility. You might not need it for the most basic analysis, and if you have very large networks it might be too slow, but for a vast range of applications it's a versatile, powerful tool for network analysis, and thus you will find it useful as a data science tool going forward.\n",
    "\n",
    "<font size=\"-1\" color=\"gray\">(Remove this cell when delivering.)</font>"
   ]
  },
  {
   "cell_type": "markdown",
   "id": "20746f6b",
   "metadata": {},
   "source": [
    "First, create a network from the filtered edges by reading the file created in the previous section. \n",
    "\n",
    "NetworkX basically involves creating and manipulating different [`Graph` classes](https://networkx.org/documentation/stable/reference/classes/index.html) that hold [nodes](https://networkx.org/documentation/stable/reference/classes/generated/networkx.Graph.nodes.html), [edges](https://networkx.org/documentation/stable/reference/classes/generated/networkx.Graph.edges.html), and node/edge [attributes](https://networkx.org/documentation/stable/reference/functions.html#attributes).\n",
    "\n",
    "For each line in the file that corresponds to an edge, add that source-target edge (preserving the direction of mentions) with its respective weight (number of mentions) to a network `g`. Since our network of mentions is directed, make sure to use the `nx.DiGraph()` class (stands for \"**Di**rected **Graph**\").\n",
    "\n",
    "*Tip: You can use either the `csv.reader()` or `csv.DictReader()` function. They differ in the kind of Python objects they parse entries into, both can be useful!*\n",
    "\n",
    "<font size=\"-1\" color=\"gray\">(Remove this cell when delivering.)</font>"
   ]
  },
  {
   "cell_type": "code",
   "execution_count": null,
   "id": "c2d1b5cc",
   "metadata": {},
   "outputs": [],
   "source": [
    "# Import required packages\n",
    "\n",
    "import networkx as nx\n",
    "import matplotlib.pyplot as plt"
   ]
  },
  {
   "cell_type": "markdown",
   "id": "a3ea2da7",
   "metadata": {},
   "source": [
    "<font size=\"+1\" color=\"red\">\n",
    "Replace this cell with your code to create the directed, weighted mentions network <code>g</code>.\n",
    "</font>"
   ]
  },
  {
   "cell_type": "markdown",
   "id": "d37db076",
   "metadata": {},
   "source": [
    "To access the edge attributes (e.g. `weight`) in a `networkx` graph, you can use the [`nx.get_edge_attributes()`](https://networkx.org/documentation/stable/reference/generated/networkx.classes.function.get_edge_attributes.html) function, passing it the attribute you want to obtain. For example, below we display a few of the edges with their weights.\n",
    "\n",
    "<font size=\"-1\" color=\"gray\">(Remove this cell when delivering.)</font>"
   ]
  },
  {
   "cell_type": "code",
   "execution_count": null,
   "id": "597f8a5e",
   "metadata": {},
   "outputs": [],
   "source": [
    "# Leave this code as-is\n",
    "\n",
    "list(nx.get_edge_attributes(g, 'weight').items())[:10]"
   ]
  },
  {
   "cell_type": "markdown",
   "id": "ed85790e",
   "metadata": {},
   "source": [
    "## 2.1. Extract the largest connected component using NetworkX"
   ]
  },
  {
   "cell_type": "markdown",
   "id": "134520b6",
   "metadata": {},
   "source": [
    "Now that we have the network of (filtered) mentions `g`, extract its largest connected component (`lcc`).\n",
    "\n",
    "For this, check out the [`nx.weakly_connected_components()`](https://networkx.org/documentation/stable/reference/algorithms/generated/networkx.algorithms.components.weakly_connected_components.html#networkx.algorithms.components.weakly_connected_components) function.\n",
    "\n",
    "<font size=\"-1\" color=\"gray\">(Remove this cell when delivering.)</font>"
   ]
  },
  {
   "cell_type": "markdown",
   "id": "241c2f20",
   "metadata": {},
   "source": [
    "Recall that for directed networks, we have two different notions of connectedness: *strongly* and *weakly* connected.\n",
    "\n",
    "We can check if a graph is connected by using:\n",
    "\n",
    "<font size=\"-1\" color=\"gray\">(Remove this cell when delivering.)</font>"
   ]
  },
  {
   "cell_type": "code",
   "execution_count": null,
   "id": "f614b793",
   "metadata": {},
   "outputs": [],
   "source": [
    "# Leave this code as-is\n",
    "\n",
    "print(f\"The network is weakly connected: {nx.is_weakly_connected(g)}\")\n",
    "print(f\"The network is strongly connected: {nx.is_strongly_connected(g)}\")"
   ]
  },
  {
   "cell_type": "markdown",
   "id": "2d22ea98",
   "metadata": {},
   "source": [
    "<font size=\"+1\" color=\"red\">\n",
    "Replace this cell with your code to extract from <code>g</code> the largest (weakly) connected component into a subgraph <code>lcc</code>.\n",
    "</font>"
   ]
  },
  {
   "cell_type": "markdown",
   "id": "e2412d91",
   "metadata": {},
   "source": [
    "To validate, we can check the connectedness of this subgraph.\n",
    "\n",
    "<font size=\"-1\" color=\"gray\">(Remove this cell when delivering.)</font>"
   ]
  },
  {
   "cell_type": "code",
   "execution_count": null,
   "id": "260c408d",
   "metadata": {},
   "outputs": [],
   "source": [
    "# Leave this code as-is\n",
    "\n",
    "print(f\"The network is weakly connected: {nx.is_weakly_connected(lcc)}\")\n",
    "print(f\"The network is strongly connected: {nx.is_strongly_connected(lcc)}\")"
   ]
  },
  {
   "cell_type": "markdown",
   "id": "ebdb7d932514ad2d",
   "metadata": {
    "id": "ebdb7d932514ad2d"
   },
   "source": [
    "## 2.2. Visualize the largest connected component\n"
   ]
  },
  {
   "cell_type": "markdown",
   "id": "1a98b459",
   "metadata": {},
   "source": [
    "Create a plot with the largest connected component (`lcc`) using a spring (force-directed) layout.\n",
    "\n",
    "To make the visualization more intuitive, you should take into account the betweenness of edges as an attribute to the layout algorithm and edge styles, as described below.\n",
    "\n",
    "<font size=\"-1\" color=\"gray\">(Remove this cell when delivering.)</font>"
   ]
  },
  {
   "cell_type": "markdown",
   "id": "21c5b439",
   "metadata": {},
   "source": [
    "First, calculate the betweenness of all edges in the `lcc` and add it as an attribute `betweenness` to the nodes (like `weight` is currently). Check the `networkx` documentation for a function that you can use to calculate the edge betweenness centrality.\n",
    "\n",
    "Since we have a small, weakly connected network, and we will use the betweenness for visualization purposes only, calculate it on the underirected version of the network. You can use `lcc.to_undirected()`.\n",
    "\n",
    "<font size=\"-1\" color=\"gray\">(Remove this cell when delivering.)</font>"
   ]
  },
  {
   "cell_type": "markdown",
   "id": "82be5531",
   "metadata": {},
   "source": [
    "<font size=\"+1\" color=\"red\">Replace this cell with your code to add the edge betweenness as an attribute to the nodes in `lcc`.</font>"
   ]
  },
  {
   "cell_type": "markdown",
   "id": "26e1b624",
   "metadata": {},
   "source": [
    "The below code outputs the top 10 edges by betweenness.\n",
    "\n",
    "<font size=\"-1\" color=\"gray\">(Remove this cell when delivering.)</font>"
   ]
  },
  {
   "cell_type": "code",
   "execution_count": null,
   "id": "6aad8db0",
   "metadata": {},
   "outputs": [],
   "source": [
    "# Leave this code as-is\n",
    "\n",
    "top_edges = sorted(lcc.edges(data=True), key=lambda x: x[2]['betweenness'], reverse=True)[:10]\n",
    "for edge in top_edges:\n",
    "    print(f\"Edge from @{edge[0]} to @{edge[1]} has betweenness {edge[2]['betweenness']:.3f}\")"
   ]
  },
  {
   "cell_type": "markdown",
   "id": "26a206cc",
   "metadata": {},
   "source": [
    "Now we will plot the largest connected component using `networkx` and style it.\n",
    "\n",
    "---\n",
    "\n",
    "***Quick NetworkX visualization explainer***\n",
    "\n",
    "With the `networkx` [drawing](https://networkx.org/documentation/stable/reference/drawing.html) utilities, we can plot networks (as `matplotlib` Figures) and customize node and edge styles any way we like.\n",
    "\n",
    "As we saw with Cytoscape, the two basic elements of a network visualization are the **layout** and the element (node, edge) **styles**.\n",
    "\n",
    "The basic visualization function in `networkx` is [`nx.draw()`](https://networkx.org/documentation/stable/reference/generated/networkx.drawing.nx_pylab.draw.html), which has the following signature:\n",
    "\n",
    "```python\n",
    "    nx.draw(g, pos=node_layout, **style_keywords)\n",
    "```\n",
    "\n",
    "Very briefly:\n",
    "* We specify the graph we want to draw as `g`.\n",
    "* The `pos` parameter takes as argument a dictionary mapping nodes in `g` to positions (coordinates in 2D space). \n",
    "    * There are [many functions](https://networkx.org/documentation/stable/reference/drawing.html#module-networkx.drawing.layout) in `networkx` for generating different layouts (i.e. node positions). Below we give an example using [`nx.spring_layout()`](https://networkx.org/documentation/stable/reference/generated/networkx.drawing.layout.spring_layout.html).\n",
    "* In `style_keywords` we pass the function a set of keyword arguments (either as a dictionary, or one-by-one) that affect the appearance of nodes, edges, and labels. \n",
    "    * For the basic set of parameters we can pass, and their formats, see the documentation entry of [`nx.draw_networkx()`](https://networkx.org/documentation/stable/reference/generated/networkx.drawing.nx_pylab.draw_networkx.html).\n",
    "\n",
    "There are basically two approaches for plotting with `networkx`:\n",
    "\n",
    "* Using the basic `nx.draw()` function, and passing the styles as arguments to that function; or\n",
    "* Using separate calls to `draw_networkx_nodes()`, `draw_networkx_edges()` and `draw_networkx_labels()` to draw the respective elements separately.\n",
    "\n",
    "The former approch is simpler, and is recommended at the beginning. The latter approach allows for a few more customizations and is more useful when dealing with large networks where the drawing may take a long time.\n",
    "\n",
    "Note that under the hood `nx.draw()` uses the `draw_networkx_nodes()`, etc., functions, and it is those lower-level functions that define the names and permitted values of the styling parameters. You should check their documentation for reference.\n",
    "\n",
    "For more information, see the NetworkX [Drawing](https://networkx.org/documentation/stable/reference/drawing.html) documentation.\n",
    "\n",
    "*Tip: In the future, if you want to step up your network visualization game, check out the [`netgraph`](https://github.com/paulbrodersen/netgraph) package!*\n",
    "\n",
    "---\n",
    "\n",
    "Generating good layouts to plot networkx graphs can be tricky. For this first example, you are given the code to generate a suitable layout for this network using an algorithm of the (familiar) force-directed layout type.\n",
    "\n",
    "Later on, you will need to generate layouts yourself, so take some time to read the code below and check out what the parameters are for [`nx.spring_layout`](https://networkx.org/documentation/stable/reference/generated/networkx.drawing.layout.spring_layout.html).\n",
    "\n",
    "Note in particular how the `weight` parameter works. (This is the reson why we added the betweenness as an attribute to the network.)\n",
    "\n",
    "<font size=\"-1\" color=\"gray\">(Remove this cell when delivering.)</font>"
   ]
  },
  {
   "cell_type": "code",
   "execution_count": null,
   "id": "06df18b5",
   "metadata": {},
   "outputs": [],
   "source": [
    "# Leave this code as-is (for now)\n",
    "\n",
    "pos = nx.spring_layout(     # The function returns a dictionary with node positions (2D coordinates)...\n",
    "    lcc,                    # ...for nodes in the largest connected component...\n",
    "    weight='betweenness',   # ...using edge betweenness as an attractive force...\n",
    "    method='energy',        # ...using the energy minimization method (see documentation for details)...\n",
    "    k=0.1,                  # ...with a custom setting for the optimal distance between nodes.\n",
    "    seed=42          # We also set the RNG seed to make the layout reproducible.\n",
    ")"
   ]
  },
  {
   "cell_type": "markdown",
   "id": "704841c9783cc5fe",
   "metadata": {
    "id": "704841c9783cc5fe"
   },
   "source": [
    "To style the nodes and edges in the LCC, we need to pass the relevant attributes as numerical values directly to the drawing function. See the `nx.draw()` documentation for details on the keyword arguments.\n",
    "\n",
    "Style **nodes** in the largest connected component with:\n",
    "\n",
    "* Node size proportional to their in-degree\n",
    "* Node labels whose font size is proportional to their in-degree\n",
    "<!-- * Node color proportional to in-degree (white=small, blue=large) — Kalo: CAN ADD THIS IF THE PRACTICE SEEMS TO EASY -->\n",
    "\n",
    "Style **edges** with:\n",
    "\n",
    "* Edge width proportional to weight\n",
    "* Arrows at the end of each edge\n",
    "\n",
    "You can include any other styling that you want — as long as the visualization is *readable* and *informative*.\n",
    "\n",
    "Save the network as an image using `plt.savefig()` with filename `mentions-largest-cc.png`. (The `networkx` drawing function use the `matplotlib` backend by default, so we can manipulate everything as a `Figure` object.)\n",
    "\n",
    "*Tip: You do not need to see every detail of the network in this notebook, but make sure the network is big enough and the image is saved with a decent quality.*\n",
    "\n",
    "<font size=\"-1\" color=\"gray\">(Remove this cell when delivering.)</font>"
   ]
  },
  {
   "cell_type": "markdown",
   "id": "5b33d5fc",
   "metadata": {},
   "source": [
    "<font size=\"+1\" color=\"red\">Replace this cell with your code to draw the `lcc`, with the layout given above and the required styling.</font>"
   ]
  },
  {
   "cell_type": "markdown",
   "id": "af74d259",
   "metadata": {},
   "source": [
    "<font size=\"+1\" color=\"red\">\n",
    "\n",
    "Replace this cell with a basic analysis of the network structure, using `networkx` functions (see [Algorithms](https://networkx.org/documentation/stable/reference/algorithms/index.html) and [Graph Functions](https://networkx.org/documentation/stable/reference/functions.html#graph)).\n",
    "\n",
    "* What is the diameter of the largest connected component, disregarding edge direction?\n",
    "* What is the size of the largest connected component, both as a number of nodes and as a percentage of the nodes in the graph?\n",
    "* What is the size of the second largest connected component?\n",
    "\n",
    "</font>"
   ]
  },
  {
   "cell_type": "markdown",
   "id": "63f1603de81f7a19",
   "metadata": {
    "id": "63f1603de81f7a19"
   },
   "source": [
    "<font size=\"+1\" color=\"red\">Replace this cell with a brief commentary on what you see in this graph, regarding its structure.</font>\n"
   ]
  },
  {
   "cell_type": "markdown",
   "id": "a107416d",
   "metadata": {},
   "source": [
    "<font size=\"+1\" color=\"red\">\n",
    "Go back to the code above:\n",
    "\n",
    "1. Remove the `seed` parameter in the call to `spring_layout()`, re-run the code to calculate `pos`, and visualize the network again.\n",
    "2. Look at the resulting layout. Do this a few times. \n",
    "\n",
    "Comment briefly on what you notice. What does the `seed` parameter do? \n",
    "</font>"
   ]
  },
  {
   "cell_type": "markdown",
   "id": "5c8e0527484b32e2",
   "metadata": {
    "id": "5c8e0527484b32e2"
   },
   "source": [
    "\n",
    "## 2.3. Examine degree distributions\n"
   ]
  },
  {
   "cell_type": "markdown",
   "id": "c0403c336839e8be",
   "metadata": {
    "id": "c0403c336839e8be"
   },
   "source": [
    "Analyze the in- and out-degree distributions of nodes in the **largest connected component**:\n",
    "\n",
    "* Plot both distributions.\n",
    "* Plot a **scatterplot** of the in and out degree of nodes.\n",
    "\n",
    "*Important: Make sure the plots are readable! Include x- and y-axis labels, a legend, etc.*\n",
    "\n",
    "<font size=\"-1\" color=\"gray\">(Remove this cell when delivering.)</font>"
   ]
  },
  {
   "cell_type": "markdown",
   "id": "12f64881da349609",
   "metadata": {
    "id": "12f64881da349609"
   },
   "source": [
    "<font size=\"+1\" color=\"red\">Replace this cell with code to show the in- and out-degree distributions of nodes.</font>"
   ]
  },
  {
   "cell_type": "markdown",
   "id": "46e1def9",
   "metadata": {},
   "source": [
    "<font size=\"+1\" color=\"red\">Replace this cell by a brief commentary, in your own words, about these degree distributions.</font>"
   ]
  },
  {
   "cell_type": "markdown",
   "id": "167510ef",
   "metadata": {},
   "source": [
    "<font size=\"+1\" color=\"red\">Replace this cell with code to generate a scatterplot of the in- and out-degrees of nodes in the LLC.</font>"
   ]
  },
  {
   "cell_type": "markdown",
   "id": "58b76d39",
   "metadata": {},
   "source": [
    "<font size=\"+1\" color=\"red\">Replace this cell by a brief commentary, in your own words, about what you see on the scatterplot. What does it tell you about the largest strongly connected component of the graph?</font>"
   ]
  },
  {
   "cell_type": "markdown",
   "id": "254e7249cdf8bb3f",
   "metadata": {
    "id": "254e7249cdf8bb3f"
   },
   "source": [
    "# 3. Create the undirected co-mention network\n"
   ]
  },
  {
   "cell_type": "markdown",
   "id": "bf3510a651836460",
   "metadata": {
    "id": "bf3510a651836460"
   },
   "source": [
    "The **undirected co-mention network** connects two accounts if they are both mentioned in the same tweet. The weight of the edge is the number of tweets in which the accounts are co-mentioned.\n",
    "\n",
    "Suppose the mentions in a Tweet are in the array ``mentions``, one way to iterate through all pairs of co-mentioned is like this:\n",
    "\n",
    "```python\n",
    "    for mention1 in mentions:\n",
    "        for mention2 in mentions:\n",
    "            ...\n",
    "```\n",
    "\n",
    "Read the original input file again to create a dictionary `co_mentions_counter` in which keys are tuples (user1, user2) in which user1 lexicographically precedes user2 (user1 < user2), and values are the number of times user1 and user2 have appeared together in a tweet.\n",
    "\n",
    "<font size=\"-1\" color=\"gray\">(Remove this cell when delivering.)</font>"
   ]
  },
  {
   "cell_type": "markdown",
   "id": "1e5a28b02b84f959",
   "metadata": {
    "id": "1e5a28b02b84f959"
   },
   "source": [
    "<font size=\"+1\" color=\"red\">Replace this cell with your code to create the `co_mentions_counter`.</font>\n"
   ]
  },
  {
   "cell_type": "markdown",
   "id": "6cb9916cd3c6f94",
   "metadata": {
    "id": "6cb9916cd3c6f94"
   },
   "source": [
    "Print the number of times the accounts `educaciocat` and `elnacionalcat` have been mentioned together. It should be 8.\n",
    "\n",
    "<font size=\"-1\" color=\"gray\">(Remove this cell when delivering.)</font>\n"
   ]
  },
  {
   "cell_type": "code",
   "execution_count": null,
   "id": "43cb63bc150d6b26",
   "metadata": {
    "ExecuteTime": {
     "end_time": "2024-09-20T13:12:28.799697Z",
     "start_time": "2024-09-20T13:12:28.797729Z"
    },
    "id": "43cb63bc150d6b26",
    "outputId": "93e8fde0-f922-4024-caa1-34c9bedb2f37"
   },
   "outputs": [],
   "source": [
    "# Leave this code as-is\n",
    "\n",
    "print(co_mentions_counter[('educaciocat', 'elnacionalcat')])"
   ]
  },
  {
   "cell_type": "markdown",
   "id": "796f846b64085294",
   "metadata": {
    "id": "796f846b64085294"
   },
   "source": [
    "<font size=\"+1\" color=\"red\">Replace this cell with your code to print all pairs of accounts that have been co-mentioned 20 times or more.</font>"
   ]
  },
  {
   "cell_type": "markdown",
   "id": "8e9fec31c8f375df",
   "metadata": {
    "id": "8e9fec31c8f375df"
   },
   "source": [
    "Now create a file named `OUTPUT_CO_MENTIONS_FILENAME` containing co-mentions in tab-separated columns `Source, Target, Weight`.\n",
    "\n",
    "<font size=\"-1\" color=\"gray\">(Remove this cell when delivering.)</font>"
   ]
  },
  {
   "cell_type": "markdown",
   "id": "b280ae9ea497adc6",
   "metadata": {
    "id": "b280ae9ea497adc6"
   },
   "source": [
    "<font size=\"+1\" color=\"red\">Replace this cell with your code to create the co-mentions file.</font>"
   ]
  },
  {
   "cell_type": "markdown",
   "id": "57c10caa7e74289e",
   "metadata": {
    "id": "57c10caa7e74289e"
   },
   "source": [
    "# 4. Visualize the undirected co-mention network "
   ]
  },
  {
   "cell_type": "markdown",
   "id": "05d01d77",
   "metadata": {},
   "source": [
    "Read the co-mentions file and create a `Graph` in which nodes are accounts and the links between them are weighted by the number of co-mentions.\n",
    "\n",
    "Find the nodes that have a **degree larger or equal to 17**, and then create a `subgraph` with those nodes and the edges between them.\n",
    "\n",
    "Visualize the network using a `spring_layout` that uses the `weight` edge property. A few notes:\n",
    "\n",
    "* You can take inspiration from the layout provided when we visualized the directed mentions network earlier in this practice. But try different versions — play around with the layout properties like `k`, the number of `iterations`, or the `gravity` (if using the 'energy' method).\n",
    "* Try using the 'force' method of `spring_layout`, or a completely different layout if you'd like: check the NetworkX [Drawing](https://networkx.org/documentation/stable/reference/drawing.html) documentation for options.\n",
    "* Keep in mind this network is larger, so it may take more time to visualize it. Usually the most time-consuming part is calculating the layout coordinates `pos`. Some layouts are faster than others.\n",
    "\n",
    "Style the network as you wish, what matters in the end is that your visualization is readable and the layout and styling is meaningful.\n",
    "\n",
    "<font size=\"-1\" color=\"gray\">(Remove this cell when delivering.)</font>"
   ]
  },
  {
   "cell_type": "markdown",
   "id": "88a20892",
   "metadata": {},
   "source": [
    "<font size=\"+1\" color=\"red\">Replace this cell with your code to draw the network as just described.</font>"
   ]
  },
  {
   "cell_type": "markdown",
   "id": "7f413055f069c1b0",
   "metadata": {
    "id": "7f413055f069c1b0"
   },
   "source": [
    "<font size=\"+1\" color=\"red\">Replace this cell by a brief commentary, in your own words, of what you see in this graph. Which kinds of connected components does it have? Are connected components sparse or dense? Is there any specially dense sub-graph within the largest connected component, what is it? Include any aspects that you find relevant.</font>"
   ]
  },
  {
   "cell_type": "markdown",
   "id": "b991b6c44b214456",
   "metadata": {
    "id": "b991b6c44b214456"
   },
   "source": [
    "# DELIVER (individually)\n",
    "\n",
    "Deliver a zip file containing:\n",
    "\n",
    "* Your code as a Python notebook (a `.ipynb` file).\n",
    "   * Remove all unnecessary elements\n",
    "   * Add comments when needed\n",
    "* Any png files that you inserted in the notebook\n",
    "\n",
    "<font size=\"-1\" color=\"gray\">(Remove this cell when delivering.)</font>"
   ]
  },
  {
   "cell_type": "markdown",
   "id": "24cef4603c2621a8",
   "metadata": {
    "id": "24cef4603c2621a8"
   },
   "source": [
    "<font size=\"+2\" color=\"#003300\">I hereby declare that, except for the code provided by the course instructors, all of my code, text, and figures were produced by myself.</font>"
   ]
  }
 ],
 "metadata": {
  "colab": {
   "provenance": []
  },
  "kernelspec": {
   "display_name": "flavors-venv",
   "language": "python",
   "name": "flavors-venv"
  },
  "language_info": {
   "codemirror_mode": {
    "name": "ipython",
    "version": 3
   },
   "file_extension": ".py",
   "mimetype": "text/x-python",
   "name": "python",
   "nbconvert_exporter": "python",
   "pygments_lexer": "ipython3",
   "version": "3.11.2"
  }
 },
 "nbformat": 4,
 "nbformat_minor": 5
}
